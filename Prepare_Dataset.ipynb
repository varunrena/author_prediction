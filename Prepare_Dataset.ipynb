{
 "cells": [
  {
   "cell_type": "code",
   "execution_count": 1,
   "id": "43b6806f",
   "metadata": {},
   "outputs": [],
   "source": [
    "import nltk\n",
    "from nltk import tokenize\n",
    "import numpy as np\n",
    "import random\n",
    "import pandas as pd"
   ]
  },
  {
   "cell_type": "code",
   "execution_count": 2,
   "id": "b4d50ed2",
   "metadata": {},
   "outputs": [],
   "source": [
    "def split_text(filepath, min_char):\n",
    "    \"\"\"Convert text file to a list of sentences.\n",
    "    \n",
    "    Args:\n",
    "    filepath: string. Filepath of text file.\n",
    "    min_char: int. Minimum number of characters required for a sentence to be\n",
    "    included.\n",
    "\n",
    "    Returns:\n",
    "    sentences: list of strings. List of sentences containined in the text file.\n",
    "    \"\"\"\n",
    "    # Load data into string variable and remove new line characters\n",
    "    file = open(filepath, \"r\", encoding=\"utf8\")\n",
    "    text = file.read().replace('\\n', ' ')\n",
    "    text = text.replace('.”', '”.').replace('.\"', '\".').replace('?”', '”?').replace('!”', '”!')\n",
    "    text = text.replace('--', ' ').replace('. . .', '').replace('_', '')\n",
    "    file.close()\n",
    "    \n",
    "    # Split text into a list of sentences\n",
    "    sentences = tokenize.sent_tokenize(text)\n",
    "    \n",
    "    # Remove sentences that are less than min_char long\n",
    "    sentences = [sent for sent in sentences if len(sent) >= min_char]\n",
    "\n",
    "    return list(sentences)"
   ]
  },
  {
   "cell_type": "code",
   "execution_count": 3,
   "id": "8e8c1edd",
   "metadata": {},
   "outputs": [],
   "source": [
    "# Set parameter values\n",
    "min_char = 5\n",
    "\n",
    "# Create lists\n",
    "baron = split_text('Books/The_Works_Of_Lord_Baron.txt', min_char = min_char)\\\n",
    "        + split_text('Books/Frankenstein.txt', min_char = min_char)\n",
    "polidori = split_text('Books/The_Vampyre_John_Polidori.txt', min_char = min_char)\\\n",
    "           + split_text('Books/The_Dairy_Of_John_William_Polidori.txt', min_char = min_char)\\\n",
    "           + split_text('Books/Frankenstein.txt', min_char = min_char)\n",
    "percy = split_text('Books/The_Complete_Poetical_Works_Of_Percy_Bysshe_Shelley.txt', min_char = min_char)\\\n",
    "        + split_text('Books/Frankenstein.txt', min_char = min_char)\n",
    "mary = split_text('Books/The_Last_Man_By_Mary_Wollstonecraft_Shelley.txt', min_char = min_char)\\\n",
    "       + split_text('Books/Frankenstein.txt', min_char = min_char)\n",
    "alcott = split_text('Books/Little_Women_By_Louisa_May_Alcott.txt', min_char = min_char)\n",
    "bronte = split_text('Books/Jane_Eyre_An_Autobiography_By_Charlotte_Bronte.txt', min_char = min_char)"
   ]
  },
  {
   "cell_type": "code",
   "execution_count": 4,
   "id": "de440f34",
   "metadata": {},
   "outputs": [
    {
     "name": "stdout",
     "output_type": "stream",
     "text": [
      "Baron : 21753\n",
      "Polidori : 9680\n",
      "Percy : 22942\n",
      "Mary : 13667\n",
      "Alcott : 9563\n",
      "Bronte : 9699\n"
     ]
    }
   ],
   "source": [
    "# Print length of each list\n",
    "\n",
    "text_dict = {'Baron': baron, 'Polidori': polidori, 'Percy': percy, 'Mary': mary,\n",
    "             'Alcott': alcott, 'Bronte': bronte}\n",
    "\n",
    "for key in text_dict.keys():\n",
    "    print(key, ':', len(text_dict[key]))"
   ]
  },
  {
   "cell_type": "code",
   "execution_count": 5,
   "id": "c707f737",
   "metadata": {},
   "outputs": [
    {
     "name": "stdout",
     "output_type": "stream",
     "text": [
      "The length of the combined list is: 54000\n"
     ]
    }
   ],
   "source": [
    "# Set random seed\n",
    "np.random.seed(1)\n",
    "\n",
    "# Set length parameter\n",
    "max_len = 9000\n",
    "\n",
    "# Select sentences\n",
    "names = [baron, polidori, percy, mary, alcott, bronte]\n",
    "combined = []\n",
    "\n",
    "for name in names:\n",
    "    name = np.random.choice(name, max_len, replace = False)\n",
    "    combined += list(name)\n",
    "\n",
    "print('The length of the combined list is:', len(combined))"
   ]
  },
  {
   "cell_type": "code",
   "execution_count": 6,
   "id": "87b7ac39",
   "metadata": {},
   "outputs": [
    {
     "name": "stdout",
     "output_type": "stream",
     "text": [
      "The length of the labels list is: 63000\n"
     ]
    }
   ],
   "source": [
    "labels = ['Baron']*max_len + ['Polidori']*max_len + ['Percy']*max_len + ['Mary']*max_len\\\n",
    "        + ['Alcott']*max_len + ['Bronte']*max_len + ['Collins']*max_len\n",
    "\n",
    "print('The length of the labels list is:', len(labels))"
   ]
  },
  {
   "cell_type": "code",
   "execution_count": 7,
   "id": "004fe720",
   "metadata": {},
   "outputs": [],
   "source": [
    "# Set random seed\n",
    "random.seed(3)\n",
    "\n",
    "# Randomly shuffle data\n",
    "zipped = list(zip(combined, labels))\n",
    "random.shuffle(zipped)\n",
    "combined, labels = zip(*zipped)"
   ]
  },
  {
   "cell_type": "code",
   "execution_count": 8,
   "id": "b240fb5b",
   "metadata": {},
   "outputs": [
    {
     "name": "stdout",
     "output_type": "stream",
     "text": [
      "                                                text    author\n",
      "0                                  What is he doing?    Bronte\n",
      "1  \"Isn't a fellow to have any pleasure after a f...    Alcott\n",
      "2  The original story, Ernestus Berchtold, may po...  Polidori\n",
      "3  Later in the evening, when his mind had been s...    Alcott\n",
      "4  “But this was a luxury of sensation that could...     Percy\n"
     ]
    }
   ],
   "source": [
    "# Create pandas dataframe\n",
    "out_data = pd.DataFrame()\n",
    "out_data['text'] = combined\n",
    "out_data['author'] = labels\n",
    "\n",
    "print(out_data.head())"
   ]
  },
  {
   "cell_type": "code",
   "execution_count": 10,
   "id": "6ff40f38",
   "metadata": {},
   "outputs": [],
   "source": [
    "# Export as a csv file\n",
    "out_data.to_csv('author_dataset.csv', index=False)"
   ]
  },
  {
   "cell_type": "code",
   "execution_count": null,
   "id": "e4e5610a",
   "metadata": {},
   "outputs": [],
   "source": []
  }
 ],
 "metadata": {
  "kernelspec": {
   "display_name": "Python 3",
   "language": "python",
   "name": "python3"
  },
  "language_info": {
   "codemirror_mode": {
    "name": "ipython",
    "version": 3
   },
   "file_extension": ".py",
   "mimetype": "text/x-python",
   "name": "python",
   "nbconvert_exporter": "python",
   "pygments_lexer": "ipython3",
   "version": "3.8.8"
  }
 },
 "nbformat": 4,
 "nbformat_minor": 5
}
